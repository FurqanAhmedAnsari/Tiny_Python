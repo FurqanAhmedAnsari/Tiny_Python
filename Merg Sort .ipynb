{
 "cells": [
  {
   "cell_type": "code",
   "execution_count": 15,
   "metadata": {},
   "outputs": [
    {
     "name": "stdout",
     "output_type": "stream",
     "text": [
      "Original List:[60, 20, 40, 10, 90, 30, 80, 50, 70, 100]\n",
      "Sorted List:[10, 20, 30, 40, 50, 60, 70, 80, 90, 100]\n"
     ]
    }
   ],
   "source": [
    "# Merge Sort.\n",
    "\n",
    "def merge_sort(list):\n",
    "    if len(list) <= 1:\n",
    "        return list\n",
    "    mid = len(list) // 2\n",
    "    l_half = list[:mid]\n",
    "    r_half = list[mid:]\n",
    "    l_half = merge_sort(l_half)\n",
    "    r_half = merge_sort(r_half)\n",
    "    return merge(l_half, r_half)\n",
    "\n",
    "def merge(left, right):\n",
    "    new = []\n",
    "    i, j = 0,0\n",
    "    while i <len(left) and j <len(right):\n",
    "        if left[i] < right[j]:\n",
    "            new.append(left[i])\n",
    "            i += 1\n",
    "        else:\n",
    "            new.append(right[j])\n",
    "            j += 1\n",
    "    new.extend(left[i:])\n",
    "    new.extend(right[j:])\n",
    "    return new\n",
    "\n",
    "list = [60,20,40,10,90,30,80,50,70,100]\n",
    "sorted_list = merge_sort(list)\n",
    "print(f\"Original List:{list}\")\n",
    "print(f\"Sorted List:{sorted_list}\")"
   ]
  }
 ],
 "metadata": {
  "kernelspec": {
   "display_name": "Python 3",
   "language": "python",
   "name": "python3"
  },
  "language_info": {
   "codemirror_mode": {
    "name": "ipython",
    "version": 3
   },
   "file_extension": ".py",
   "mimetype": "text/x-python",
   "name": "python",
   "nbconvert_exporter": "python",
   "pygments_lexer": "ipython3",
   "version": "3.11.4"
  }
 },
 "nbformat": 4,
 "nbformat_minor": 2
}
