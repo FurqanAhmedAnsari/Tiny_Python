{
 "cells": [
  {
   "cell_type": "code",
   "execution_count": 3,
   "metadata": {},
   "outputs": [],
   "source": [
    "# import cv2\n",
    "# import numpy as np\n",
    "\n",
    "# def sharpen_image(image_path, output_path, alpha=1.5, beta=-0.5):\n",
    "#     # Read the image\n",
    "#     img = cv2.imread(image_path)\n",
    "\n",
    "#     # Apply sharpening filter\n",
    "#     sharpening_filter = np.array([[-1, -1, -1],\n",
    "#                                   [-1,  9, -1],\n",
    "#                                   [-1, -1, -1]])\n",
    "#     sharpened_img = cv2.filter2D(img, -1, sharpening_filter)\n",
    "\n",
    "#     # Apply contrast and brightness adjustment\n",
    "#     sharpened_img = cv2.addWeighted(sharpened_img, alpha, img, 1, beta)\n",
    "\n",
    "#     # Save the sharpened image\n",
    "#     cv2.imwrite(output_path, sharpened_img)\n",
    "\n",
    "# if __name__ == \"__main__\":\n",
    "#     input_image_path = r\"C:\\Users\\khush\\OneDrive\\Desktop\\Furqan Python\\WhatsApp Image 2023-11-17 at 3.36.04 PM.jpeg\"\n",
    "#     output_image_path = r\"C:\\Users\\khush\\OneDrive\\Desktop\\Furqan Python\\sharpened_image.jpg\"\n",
    "\n",
    "#     sharpen_image(input_image_path, output_image_path)\n"
   ]
  }
 ],
 "metadata": {
  "kernelspec": {
   "display_name": "Python 3",
   "language": "python",
   "name": "python3"
  },
  "language_info": {
   "codemirror_mode": {
    "name": "ipython",
    "version": 3
   },
   "file_extension": ".py",
   "mimetype": "text/x-python",
   "name": "python",
   "nbconvert_exporter": "python",
   "pygments_lexer": "ipython3",
   "version": "3.11.4"
  }
 },
 "nbformat": 4,
 "nbformat_minor": 2
}
