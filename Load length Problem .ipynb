{
 "cells": [
  {
   "cell_type": "code",
   "execution_count": 2,
   "metadata": {},
   "outputs": [
    {
     "name": "stdout",
     "output_type": "stream",
     "text": [
      "11\n"
     ]
    }
   ],
   "source": [
    "def rl(r, c):\n",
    "    if (r < 0) or (r >= rMAX) or (c < 0) or (c >= cMAX):\n",
    "        return 0\n",
    "    elif a[r][c] == 0:\n",
    "        return 0\n",
    "    else:\n",
    "        a[r][c] = 0\n",
    "        return (\n",
    "            rl(r + 1, c - 1)\n",
    "            + rl(r + 1, c)\n",
    "            + rl(r + 1, c + 1)\n",
    "            + rl(r, c - 1)\n",
    "            + 1\n",
    "            + rl(r, c + 1)\n",
    "            + rl(r - 1, c - 1)\n",
    "            + rl(r - 1, c)\n",
    "            + rl(r - 1, c + 1)\n",
    "        )\n",
    "\n",
    "# MAIN\n",
    "a = [\n",
    "    [0, 0, 1, 0, 0, 0, 1, 0, 0, 0, 0, 0, 0, 0],\n",
    "    [0, 0, 1, 0, 0, 0, 1, 0, 0, 0, 1, 1, 1, 1],\n",
    "    [0, 1, 0, 0, 0, 0, 1, 0, 1, 1, 0, 0, 0, 0],\n",
    "    [1, 0, 0, 0, 0, 0, 0, 1, 1, 0, 0, 0, 0, 0],\n",
    "    [0, 0, 0, 0, 0, 0, 0, 0, 0, 0, 0, 1, 1, 1],\n",
    "    [0, 0, 0, 0, 0, 0, 0, 0, 0, 0, 0, 1, 0, 0],\n",
    "    [1, 1, 1, 1, 1, 1, 1, 1, 0, 0, 0, 1, 0, 0],\n",
    "    [0, 0, 0, 0, 0, 0, 0, 0, 0, 0, 0, 1, 0, 0],\n",
    "    [0, 0, 0, 0, 0, 0, 0, 0, 0, 0, 1, 1, 0, 0],\n",
    "    [0, 0, 0, 0, 0, 0, 0, 1, 1, 1, 1, 0, 0, 0],\n",
    "    [0, 0, 0, 0, 0, 0, 0, 0, 0, 0, 0, 0, 0, 0],\n",
    "    [0, 0, 0, 0, 0, 0, 1, 0, 0, 0, 0, 0, 0, 0],\n",
    "    [0, 0, 0, 0, 0, 0, 1, 0, 0, 0, 0, 0, 0, 0],\n",
    "    [0, 0, 0, 0, 0, 0, 0, 1, 0, 0, 0, 0, 0, 0],\n",
    "]\n",
    "\n",
    "rMAX = len(a)\n",
    "cMAX = len(a[0])\n",
    "\n",
    "result = rl(1, 10)\n",
    "\n",
    "print(result)\n"
   ]
  }
 ],
 "metadata": {
  "kernelspec": {
   "display_name": "Python 3",
   "language": "python",
   "name": "python3"
  },
  "language_info": {
   "codemirror_mode": {
    "name": "ipython",
    "version": 3
   },
   "file_extension": ".py",
   "mimetype": "text/x-python",
   "name": "python",
   "nbconvert_exporter": "python",
   "pygments_lexer": "ipython3",
   "version": "3.11.4"
  }
 },
 "nbformat": 4,
 "nbformat_minor": 2
}
