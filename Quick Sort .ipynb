{
 "cells": [
  {
   "cell_type": "code",
   "execution_count": 2,
   "metadata": {},
   "outputs": [
    {
     "name": "stdout",
     "output_type": "stream",
     "text": [
      "[3, 4, 17, 26, 31, 56, 93]\n"
     ]
    }
   ],
   "source": [
    "# Quick Sort.from Sarim\n",
    "\n",
    "def quicksort(arr):\n",
    "    if len(arr) <= 1:\n",
    "        return arr\n",
    "    pivot = arr[len(arr) // 2]\n",
    "    a=[]\n",
    "    for x in arr:\n",
    "        if x < pivot :\n",
    "            left=x\n",
    "            a.append(left)\n",
    "    b=[]\n",
    "    for x in arr:\n",
    "        if x > pivot :\n",
    "            right=x\n",
    "            b.append(right)\n",
    "    c=[]\n",
    "    for x in arr:\n",
    "        if x == pivot :\n",
    "            middle=x\n",
    "            c.append(middle)\n",
    "    return quicksort(a) + c + quicksort(b)\n",
    "\n",
    "# Example usage:\n",
    "list = [3,56, 26, 93, 17, 31, 4]\n",
    "print(quicksort(list))"
   ]
  },
  {
   "cell_type": "code",
   "execution_count": null,
   "metadata": {},
   "outputs": [],
   "source": [
    "# Quick Sort. from youtube\n",
    "\n",
    "# def quick_sort(list, low, high):\n",
    "#     if low < high:\n",
    "#         pivot = partition(list, low, high)\n",
    "#         quick_sort\n",
    "            "
   ]
  }
 ],
 "metadata": {
  "kernelspec": {
   "display_name": "Python 3",
   "language": "python",
   "name": "python3"
  },
  "language_info": {
   "codemirror_mode": {
    "name": "ipython",
    "version": 3
   },
   "file_extension": ".py",
   "mimetype": "text/x-python",
   "name": "python",
   "nbconvert_exporter": "python",
   "pygments_lexer": "ipython3",
   "version": "3.11.4"
  }
 },
 "nbformat": 4,
 "nbformat_minor": 2
}
