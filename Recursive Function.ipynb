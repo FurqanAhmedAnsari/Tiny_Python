{
 "cells": [
  {
   "cell_type": "code",
   "execution_count": 9,
   "metadata": {},
   "outputs": [
    {
     "name": "stdout",
     "output_type": "stream",
     "text": [
      "6\n",
      "24\n",
      "120\n"
     ]
    }
   ],
   "source": [
    "def fnctorinl(n):\n",
    "    if n == 0 or n == 1:\n",
    "        return 1\n",
    "    else:\n",
    "        return (n * fnctorinl(n-1))\n",
    "    \n",
    "print(fnctorinl(3))\n",
    "print(fnctorinl(4))\n",
    "print(fnctorinl(5))"
   ]
  },
  {
   "cell_type": "code",
   "execution_count": 28,
   "metadata": {},
   "outputs": [
    {
     "name": "stdout",
     "output_type": "stream",
     "text": [
      "Using Iteration value of ficonacci Iteration(99) is 218922995834555169026\n",
      "It took 0.0 seconds\n"
     ]
    }
   ],
   "source": [
    "# Fibonacci series with recursion.\n",
    "import time\n",
    "\n",
    "def fibonacciRecursion(n):\n",
    "    if n == 0:\n",
    "        return 0\n",
    "    elif n == 1:\n",
    "        return 1\n",
    "    else:\n",
    "        return(fibonacciRecursion(n-1) + fibonacciRecursion(n-2))\n",
    "    \n",
    "def fibonacciIterate(n):\n",
    "    prevNum = 0\n",
    "    currentNum = 1\n",
    "    for i in range(1, n):\n",
    "        prevPrevNum = prevNum\n",
    "        prevNum = currentNum\n",
    "        currentNum = prevNum + prevPrevNum\n",
    "    return currentNum\n",
    "        \n",
    "        \n",
    "if __name__== \"__main__\":\n",
    "    num = int(input(\"Enter a number: \"))\n",
    "    \n",
    "    init = time.time()\n",
    "    \n",
    "    # Recursion is extremely slow.\n",
    "    print(f\"Using recursions value of ficonacci Recursion({num}) is {fibonacciRecursion(num)}\")\n",
    "    \n",
    "    # Iteration is very fast.\n",
    "    print(f\"Using Iteration value of ficonacci Iteration({num}) is:{fibonacciIterate(num)}\")\n",
    "    \n",
    "    print(f\"It took {time.time() - init} seconds\")"
   ]
  }
 ],
 "metadata": {
  "kernelspec": {
   "display_name": "Python 3",
   "language": "python",
   "name": "python3"
  },
  "language_info": {
   "codemirror_mode": {
    "name": "ipython",
    "version": 3
   },
   "file_extension": ".py",
   "mimetype": "text/x-python",
   "name": "python",
   "nbconvert_exporter": "python",
   "pygments_lexer": "ipython3",
   "version": "3.11.4"
  }
 },
 "nbformat": 4,
 "nbformat_minor": 2
}
