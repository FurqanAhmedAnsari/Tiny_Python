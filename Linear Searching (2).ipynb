{
 "cells": [
  {
   "cell_type": "code",
   "execution_count": 13,
   "metadata": {},
   "outputs": [
    {
     "name": "stdout",
     "output_type": "stream",
     "text": [
      "Huma is present in the list at index 2\n"
     ]
    }
   ],
   "source": [
    "variable = -1\n",
    "name = input(\"Enter a name: \")\n",
    "list = [\"Ariba\" ,\"Khushtar\" ,\"Huma\" ,\"Subhan\" ,\"Furqan\"]\n",
    "for a in range(len(list)):\n",
    "    if list[a] == name:\n",
    "        c = a\n",
    "        variable = 1\n",
    "if variable == 1:\n",
    "    print(f\"{name} is present in the list at index {c}\")\n",
    "else:\n",
    "    print(f\"{name} is not present in the list\")\n",
    "    \n",
    "    "
   ]
  }
 ],
 "metadata": {
  "kernelspec": {
   "display_name": "Python 3",
   "language": "python",
   "name": "python3"
  },
  "language_info": {
   "codemirror_mode": {
    "name": "ipython",
    "version": 3
   },
   "file_extension": ".py",
   "mimetype": "text/x-python",
   "name": "python",
   "nbconvert_exporter": "python",
   "pygments_lexer": "ipython3",
   "version": "3.10.5"
  },
  "orig_nbformat": 4
 },
 "nbformat": 4,
 "nbformat_minor": 2
}
