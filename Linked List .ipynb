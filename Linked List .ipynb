{
 "cells": [
  {
   "cell_type": "code",
   "execution_count": 1,
   "metadata": {},
   "outputs": [
    {
     "name": "stdout",
     "output_type": "stream",
     "text": [
      "1 -> 2 -> 3 -> None\n"
     ]
    }
   ],
   "source": [
    "# Function to create a new node\n",
    "def create_node(data):\n",
    "    return {\"data\": data, \"next\": None}\n",
    "\n",
    "# Function to add a new element to the end of the linked list\n",
    "def append_node(head, data):\n",
    "    new_node = create_node(data)\n",
    "    if head is None:\n",
    "        return new_node\n",
    "    current = head\n",
    "    while current[\"next\"] is not None:\n",
    "        current = current[\"next\"]\n",
    "    current[\"next\"] = new_node\n",
    "    return head\n",
    "\n",
    "# Function to display the linked list\n",
    "def display_list(head):\n",
    "    current = head\n",
    "    while current is not None:\n",
    "        print(current[\"data\"], end=\" -> \")\n",
    "        current = current[\"next\"]\n",
    "    print(\"None\")\n",
    "\n",
    "# Create an empty linked list\n",
    "linked_list = None\n",
    "\n",
    "# Add elements to the linked list\n",
    "linked_list = append_node(linked_list, 1)\n",
    "linked_list = append_node(linked_list, 2)\n",
    "linked_list = append_node(linked_list, 3)\n",
    "\n",
    "# Display the linked list\n",
    "display_list(linked_list)\n"
   ]
  }
 ],
 "metadata": {
  "kernelspec": {
   "display_name": "Python 3",
   "language": "python",
   "name": "python3"
  },
  "language_info": {
   "codemirror_mode": {
    "name": "ipython",
    "version": 3
   },
   "file_extension": ".py",
   "mimetype": "text/x-python",
   "name": "python",
   "nbconvert_exporter": "python",
   "pygments_lexer": "ipython3",
   "version": "3.11.4"
  }
 },
 "nbformat": 4,
 "nbformat_minor": 2
}
